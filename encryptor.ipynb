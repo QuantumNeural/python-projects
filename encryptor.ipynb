{
 "cells": [
  {
   "cell_type": "code",
   "execution_count": 1,
   "id": "434bac92",
   "metadata": {},
   "outputs": [
    {
     "name": "stdout",
     "output_type": "stream",
     "text": [
      "[['401', '511', '011', '79', '121', '811', '501', '86'], ['901', '79'], ['37']]\n"
     ]
    }
   ],
   "source": [
    "import string\n",
    "#Encrypter\n",
    "userInput = input(\"Enter unprotected message:. \\n\")\n",
    "encrypted = list((userInput.split())[::-1])\n",
    "for i, word in enumerate(encrypted):\n",
    "    encrypted[i] = list(word[::-1])\n",
    "    for index, character in enumerate(encrypted[i]):\n",
    "        encrypted[i][index] = str(ord(character))[::-1]\n",
    "\n",
    "print(encrypted)"
   ]
  },
  {
   "cell_type": "code",
   "execution_count": 2,
   "id": "6cc6cef6",
   "metadata": {},
   "outputs": [
    {
     "name": "stdout",
     "output_type": "stream",
     "text": [
      "\n",
      "['401 511 011 79 121 811 501 86', ' 901 79', ' 37']\n",
      "\u001b[1;36m['401', '511', '011', '79', '121', '811', '501', '86']\u001b[0m\n",
      "\u001b[1;36m['901', '79']\u001b[0m\n",
      "\u001b[1;36m['37']\u001b[0m\n",
      "\n",
      "\u001b[1;32m['I']\n",
      "\u001b[1;32m['a', 'm']\n",
      "\u001b[1;32m['D', 'i', 'v', 'y', 'a', 'n', 's', 'h']\n",
      "\n",
      "\u001b[1;35mCleaned List:\n",
      "[['h', 's', 'n', 'a', 'y', 'v', 'i', 'D'], ['m', 'a'], ['I']]\n",
      "\n",
      "\u001b[1;33mDecrypted Message:\n",
      "I am Divyansh\n"
     ]
    }
   ],
   "source": [
    "#Decryptor\n",
    "import string\n",
    "userInput = input(\"Enter encrypted message:. \\n\")\n",
    "print(\"\")\n",
    "cleaned = (userInput.replace(\"[\", \"\").replace(\"'\", \"\").replace(\" \",\"\").replace(\",\",\" \")).strip(\"] \").split(\"]\")\n",
    "print(cleaned)\n",
    "for i, asciiNumber in enumerate(cleaned):\n",
    "    print(f\"\\033[1;36m{asciiNumber.strip(' ').split(' ')}\\033[0m\")\n",
    "    cleaned[i] = (asciiNumber.strip(' ').split(' '))\n",
    "    for index, asciiNumberStr in enumerate(cleaned[i]):\n",
    "        cleaned[i][index] = chr(int(asciiNumberStr[::-1]))\n",
    "decrypted = cleaned[::-1]\n",
    "\n",
    "print(\"\")\n",
    "\n",
    "for x, wordList in enumerate(decrypted):\n",
    "    print(f\"\\033[1;32m{wordList[::-1]}\")\n",
    "    decrypted[x] = \"\".join(wordList[::-1])\n",
    "decrypted = \" \".join(decrypted)\n",
    "\n",
    "print(f\"\\n\\033[1;35mCleaned List:\\n{cleaned}\")\n",
    "print(f\"\\n\\033[1;33mDecrypted Message:\\n{decrypted}\")\n"
   ]
  }
 ],
 "metadata": {
  "kernelspec": {
   "display_name": "Python 3",
   "language": "python",
   "name": "python3"
  },
  "language_info": {
   "codemirror_mode": {
    "name": "ipython",
    "version": 3
   },
   "file_extension": ".py",
   "mimetype": "text/x-python",
   "name": "python",
   "nbconvert_exporter": "python",
   "pygments_lexer": "ipython3",
   "version": "3.11.9"
  }
 },
 "nbformat": 4,
 "nbformat_minor": 5
}
